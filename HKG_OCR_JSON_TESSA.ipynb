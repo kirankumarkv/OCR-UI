{
 "cells": [
  {
   "cell_type": "code",
   "execution_count": 1,
   "id": "cd9d62e4",
   "metadata": {},
   "outputs": [],
   "source": [
    "import base64\n",
    "import tkinter as tk\n",
    "from tkinter import filedialog\n",
    "from PIL import Image, ImageTk\n",
    "import pytesseract\n",
    "import json"
   ]
  },
  {
   "cell_type": "code",
   "execution_count": 2,
   "id": "1787fd6d",
   "metadata": {},
   "outputs": [],
   "source": [
    "## OCR Code for Medical Prescription"
   ]
  },
  {
   "cell_type": "code",
   "execution_count": 3,
   "id": "f5bec957",
   "metadata": {},
   "outputs": [],
   "source": [
    "#Load Image Button defination \n",
    "\n",
    "def load_image():\n",
    "    global panel, img_label, text_box, filename\n",
    "    filename = filedialog.askopenfilename(initialdir=\"/\", title=\"Select file\",\n",
    "                                          filetypes=((\"jpeg files\", \"*.jpg\"), (\"png files\", \"*.png\"), (\"bmp files\", \"*.bmp\")))\n",
    "    if filename:\n",
    "        img = Image.open(filename)\n",
    "        img = img.resize((250, 250), Image.LANCZOS)\n",
    "        img = ImageTk.PhotoImage(img)\n",
    "\n",
    "        if panel is None:\n",
    "            panel = tk.Label(image=img)\n",
    "            panel.image = img\n",
    "            panel.grid(row=0, column=0)\n",
    "        else:\n",
    "            panel.configure(image=img)\n",
    "            panel.image = img\n",
    "\n",
    "        # Extract text using Tesseract\n",
    "        pytesseract.pytesseract.tesseract_cmd = r'C:\\Program Files\\Tesseract-OCR\\tesseract.exe'\n",
    "        text = pytesseract.image_to_string(Image.open(filename))\n",
    "        text_box.delete(\"1.0\", \"end\")\n",
    "        text_box.insert(tk.END, text)"
   ]
  },
  {
   "cell_type": "code",
   "execution_count": 4,
   "id": "66fa67a9",
   "metadata": {},
   "outputs": [],
   "source": [
    "#Convert to JSON Button\n",
    "\n",
    "def convert_to_json():\n",
    "    global text_box, filename\n",
    "    if filename:\n",
    "        desired_location = filedialog.asksaveasfilename(initialdir=\"/\", title=\"Save JSON file\",\n",
    "                                             filetypes=((\"JSON files\", \"*.json\"), (\"All files\", \"*.*\")))\n",
    "        if desired_location:\n",
    "            text = text_box.get(\"1.0\", \"end-1c\")\n",
    "            with open(filename, 'rb') as f:\n",
    "                image_data = f.read()\n",
    "            image_data_base64 = base64.b64encode(image_data)  # Use base64 module\n",
    "            json_data = {\n",
    "                \"filename\": filename,\n",
    "                \"image_data\": image_data_base64.decode('utf-8'),\n",
    "                \"extracted_text\": text\n",
    "            }\n",
    "            with open(desired_location, 'w') as f:\n",
    "                json.dump(json_data, f, indent=4)"
   ]
  },
  {
   "cell_type": "code",
   "execution_count": 5,
   "id": "0545f4b7",
   "metadata": {},
   "outputs": [],
   "source": [
    "# Cancel Button\n",
    "def cancel():\n",
    "    global panel, text_box, filename\n",
    "    if panel is not None:\n",
    "        panel.grid_forget()\n",
    "        panel = None\n",
    "    text_box.delete(\"1.0\", \"end\")\n",
    "    filename = None"
   ]
  },
  {
   "cell_type": "code",
   "execution_count": 6,
   "id": "28e71056",
   "metadata": {},
   "outputs": [],
   "source": [
    "\n",
    "\n",
    "root = tk.Tk()\n",
    "root.title(\"Image to Text and JSON Converter\")\n",
    "\n",
    "panel = None\n",
    "filename = None  # Initialize the filename variable\n",
    "\n",
    "upload_button = tk.Button(root, text=\"Upload\", command=load_image)\n",
    "upload_button.grid(row=1, column=0)\n",
    "\n",
    "convert_to_json_button = tk.Button(root, text=\"Convert to JSON\", command=convert_to_json)\n",
    "convert_to_json_button.grid(row=1, column=1)\n",
    "\n",
    "cancel_button = tk.Button(root, text=\"Cancel\", command=cancel)\n",
    "cancel_button.grid(row=1, column=2)\n",
    "\n",
    "text_box = tk.Text(root, height=10, width=40)\n",
    "text_box.grid(row=0, column=1)\n",
    "\n",
    "root.mainloop()\n"
   ]
  },
  {
   "cell_type": "code",
   "execution_count": null,
   "id": "e5747753",
   "metadata": {},
   "outputs": [],
   "source": []
  }
 ],
 "metadata": {
  "kernelspec": {
   "display_name": "Python 3 (ipykernel)",
   "language": "python",
   "name": "python3"
  },
  "language_info": {
   "codemirror_mode": {
    "name": "ipython",
    "version": 3
   },
   "file_extension": ".py",
   "mimetype": "text/x-python",
   "name": "python",
   "nbconvert_exporter": "python",
   "pygments_lexer": "ipython3",
   "version": "3.8.16"
  }
 },
 "nbformat": 4,
 "nbformat_minor": 5
}
