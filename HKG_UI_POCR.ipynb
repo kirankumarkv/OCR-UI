{
 "cells": [
  {
   "cell_type": "code",
   "execution_count": 9,
   "id": "d7e52495",
   "metadata": {},
   "outputs": [],
   "source": [
    "# Handwritten based OCR \n"
   ]
  },
  {
   "cell_type": "code",
   "execution_count": 10,
   "id": "df0bf149",
   "metadata": {},
   "outputs": [],
   "source": [
    "## Program to upload an OCR Image \n",
    "## Recognize Characters\n",
    "## Save it in Text format"
   ]
  },
  {
   "cell_type": "code",
   "execution_count": 1,
   "id": "3073c9b9",
   "metadata": {},
   "outputs": [],
   "source": [
    "import os\n",
    "os.environ['PROTOCOL_BUFFERS_PYTHON_IMPLEMENTATION'] = 'python'\n",
    "\n",
    "import tkinter as tk\n",
    "import cv2\n",
    "import numpy as np\n",
    "from tkinter import filedialog\n",
    "from PIL import Image, ImageTk\n",
    "from paddleocr import PaddleOCR"
   ]
  },
  {
   "cell_type": "code",
   "execution_count": 2,
   "id": "bc0a3aba",
   "metadata": {},
   "outputs": [],
   "source": [
    "# Function for thinning the image\n",
    "def thin_image(img):\n",
    "    img_array = np.array(img)\n",
    "    size = np.size(img_array)\n",
    "    skel = np.zeros(img_array.shape, np.uint8)\n",
    "\n",
    "    ret, img_array = cv2.threshold(img_array, 127, 255, 0)\n",
    "    element = cv2.getStructuringElement(cv2.MORPH_CROSS, (3,3))\n",
    "    done = False\n",
    "\n",
    "    while not done:\n",
    "        eroded = cv2.erode(img_array, element)\n",
    "        temp = cv2.dilate(eroded, element)\n",
    "        temp = cv2.subtract(img_array, temp)\n",
    "        skel = cv2.bitwise_or(skel, temp)\n",
    "        img_array = eroded.copy()\n",
    "\n",
    "        zeros = size - cv2.countNonZero(cv2.cvtColor(img_array, cv2.COLOR_RGB2GRAY))\n",
    "        if zeros == size:\n",
    "            done = True\n",
    "\n",
    "    return Image.fromarray(skel)"
   ]
  },
  {
   "cell_type": "code",
   "execution_count": 3,
   "id": "d668547e",
   "metadata": {},
   "outputs": [],
   "source": [
    "def preprocess_image(image_path):\n",
    "    img = cv2.imread(image_path)\n",
    "    gray = cv2.cvtColor(img, cv2.COLOR_BGR2GRAY)\n",
    "    _, binary = cv2.threshold(gray, 128, 255, cv2.THRESH_BINARY | cv2.THRESH_OTSU)\n",
    "    # Thin the image\n",
    "    #binary = thin(binary.copy())\n",
    "    return Image.fromarray(binary)"
   ]
  },
  {
   "cell_type": "code",
   "execution_count": 4,
   "id": "e1a7cdee",
   "metadata": {},
   "outputs": [
    {
     "name": "stdout",
     "output_type": "stream",
     "text": [
      "[2023/12/27 13:02:19] ppocr DEBUG: Namespace(alpha=1.0, alphacolor=(255, 255, 255), benchmark=False, beta=1.0, binarize=False, cls_batch_num=6, cls_image_shape='3, 48, 192', cls_model_dir='C:\\\\Users\\\\creat/.paddleocr/whl\\\\cls\\\\ch_ppocr_mobile_v2.0_cls_infer', cls_thresh=0.9, cpu_threads=10, crop_res_save_dir='./output', det=True, det_algorithm='DB', det_box_type='quad', det_db_box_thresh=0.6, det_db_score_mode='fast', det_db_thresh=0.3, det_db_unclip_ratio=1.5, det_east_cover_thresh=0.1, det_east_nms_thresh=0.2, det_east_score_thresh=0.8, det_limit_side_len=960, det_limit_type='max', det_model_dir='C:\\\\Users\\\\creat/.paddleocr/whl\\\\det\\\\en\\\\en_PP-OCRv3_det_infer', det_pse_box_thresh=0.85, det_pse_min_area=16, det_pse_scale=1, det_pse_thresh=0, det_sast_nms_thresh=0.2, det_sast_score_thresh=0.5, draw_img_save_dir='./inference_results', drop_score=0.5, e2e_algorithm='PGNet', e2e_char_dict_path='./ppocr/utils/ic15_dict.txt', e2e_limit_side_len=768, e2e_limit_type='max', e2e_model_dir=None, e2e_pgnet_mode='fast', e2e_pgnet_score_thresh=0.5, e2e_pgnet_valid_set='totaltext', enable_mkldnn=False, fourier_degree=5, gpu_id=0, gpu_mem=500, help='==SUPPRESS==', image_dir=None, image_orientation=False, invert=False, ir_optim=True, kie_algorithm='LayoutXLM', label_list=['0', '180'], lang='en', layout=True, layout_dict_path=None, layout_model_dir=None, layout_nms_threshold=0.5, layout_score_threshold=0.5, max_batch_size=10, max_text_length=25, merge_no_span_structure=True, min_subgraph_size=15, mode='structure', ocr=True, ocr_order_method=None, ocr_version='PP-OCRv4', output='./output', page_num=0, precision='fp32', process_id=0, re_model_dir=None, rec=True, rec_algorithm='SVTR_LCNet', rec_batch_num=6, rec_char_dict_path='C:\\\\Users\\\\creat\\\\anaconda3\\\\envs\\\\pathml\\\\lib\\\\site-packages\\\\paddleocr\\\\ppocr\\\\utils\\\\en_dict.txt', rec_image_inverse=True, rec_image_shape='3, 48, 320', rec_model_dir='C:\\\\Users\\\\creat/.paddleocr/whl\\\\rec\\\\en\\\\en_PP-OCRv4_rec_infer', recovery=False, save_crop_res=False, save_log_path='./log_output/', scales=[8, 16, 32], ser_dict_path='../train_data/XFUND/class_list_xfun.txt', ser_model_dir=None, show_log=True, sr_batch_num=1, sr_image_shape='3, 32, 128', sr_model_dir=None, structure_version='PP-StructureV2', table=True, table_algorithm='TableAttn', table_char_dict_path=None, table_max_len=488, table_model_dir=None, total_process_num=1, type='ocr', use_angle_cls=True, use_dilation=False, use_gpu=False, use_mp=False, use_npu=False, use_onnx=False, use_pdf2docx_api=False, use_pdserving=False, use_space_char=True, use_tensorrt=False, use_visual_backbone=True, use_xpu=False, vis_font_path='./doc/fonts/simfang.ttf', warmup=False)\n"
     ]
    }
   ],
   "source": [
    "ocr = PaddleOCR(use_angle_cls=True, lang='en')  # You can set the language ('en', 'ch', etc.) according to your requirement\n",
    "\n",
    "def load_image():\n",
    "    global panel, img_label, text_box\n",
    "    filename = filedialog.askopenfilename(initialdir=\"/\", title=\"Select file\",\n",
    "                                          filetypes=((\"jpeg files\", \"*.jpg\"), (\"png files\", \"*.png\"), (\"bmp files\", \"*.bmp\")))\n",
    "    if filename:\n",
    "        img = Image.open(filename)\n",
    "        img = img.resize((250, 250), Image.LANCZOS)  # Using LANCZOS resampling for resizing\n",
    "        \n",
    "        # Thin the image\n",
    "        #img = cv2.thin(img.copy())\n",
    "        #img = thin_image(img)\n",
    "        img = ImageTk.PhotoImage(img)\n",
    "        \n",
    "        if panel is None:\n",
    "            panel = tk.Label(image=img)\n",
    "            panel.image = img\n",
    "            panel.grid(row=0, column=0)\n",
    "        else:\n",
    "            panel.configure(image=img)\n",
    "            panel.image = img\n",
    "\n",
    "        result = ocr.ocr(filename, cls=True)\n",
    "        \n",
    "        # Display the image with the boxes\n",
    "        panel.configure(image=img)\n",
    "        \n",
    "        text = '\\n'.join([word[1][0] for line in result for word in line])\n",
    "        text_box.delete(\"1.0\", \"end\")\n",
    "        text_box.insert(tk.END, text)"
   ]
  },
  {
   "cell_type": "code",
   "execution_count": 5,
   "id": "00889c26",
   "metadata": {},
   "outputs": [],
   "source": [
    "def convert_to_text_file():\n",
    "    global text_box\n",
    "    text = text_box.get(\"1.0\", \"end-1c\")  # Retrieve the text without the trailing newline\n",
    "    file_path = filedialog.asksaveasfilename(defaultextension=\".txt\")\n",
    "    if file_path:\n",
    "        with open(file_path, \"w\") as file:\n",
    "            file.write(text)\n"
   ]
  },
  {
   "cell_type": "code",
   "execution_count": 6,
   "id": "70925185",
   "metadata": {},
   "outputs": [],
   "source": [
    "def cancel():\n",
    "    global panel, text_box\n",
    "    if panel is not None:\n",
    "        panel.grid_forget()\n",
    "        panel = None\n",
    "    text_box.delete(\"1.0\", \"end\")\n"
   ]
  },
  {
   "cell_type": "code",
   "execution_count": 7,
   "id": "c4afd8f1",
   "metadata": {},
   "outputs": [
    {
     "name": "stdout",
     "output_type": "stream",
     "text": [
      "[2023/12/27 13:02:45] ppocr DEBUG: dt_boxes num : 45, elapsed : 0.5782983303070068\n",
      "[2023/12/27 13:02:45] ppocr DEBUG: cls num  : 45, elapsed : 0.35642409324645996\n",
      "[2023/12/27 13:02:52] ppocr DEBUG: rec_res num  : 45, elapsed : 6.433444261550903\n"
     ]
    }
   ],
   "source": [
    "\n",
    "root = tk.Tk()\n",
    "root.title(\"Image to Text Converter\")\n",
    "\n",
    "panel = None\n",
    "\n",
    "upload_button = tk.Button(root, text=\"Upload\", command=load_image)\n",
    "upload_button.grid(row=1, column=0)\n",
    "\n",
    "convert_button = tk.Button(root, text=\"Convert to Text\", command=convert_to_text_file)\n",
    "convert_button.grid(row=1, column=1)\n",
    "\n",
    "cancel_button = tk.Button(root, text=\"Cancel\", command=cancel)\n",
    "cancel_button.grid(row=1, column=2)\n",
    "\n",
    "text_box = tk.Text(root, height=10, width=40)\n",
    "text_box.grid(row=0, column=1)\n",
    "\n",
    "root.mainloop()\n"
   ]
  },
  {
   "cell_type": "code",
   "execution_count": null,
   "id": "96bdf896",
   "metadata": {},
   "outputs": [],
   "source": []
  }
 ],
 "metadata": {
  "kernelspec": {
   "display_name": "Python 3 (ipykernel)",
   "language": "python",
   "name": "python3"
  },
  "language_info": {
   "codemirror_mode": {
    "name": "ipython",
    "version": 3
   },
   "file_extension": ".py",
   "mimetype": "text/x-python",
   "name": "python",
   "nbconvert_exporter": "python",
   "pygments_lexer": "ipython3",
   "version": "3.8.16"
  }
 },
 "nbformat": 4,
 "nbformat_minor": 5
}
